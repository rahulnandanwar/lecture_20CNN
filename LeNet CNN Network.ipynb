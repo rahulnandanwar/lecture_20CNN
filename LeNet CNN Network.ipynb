{
 "cells": [
  {
   "cell_type": "code",
   "execution_count": 1,
   "metadata": {
    "colab": {
     "base_uri": "https://localhost:8080/",
     "height": 547
    },
    "colab_type": "code",
    "executionInfo": {
     "elapsed": 8845,
     "status": "ok",
     "timestamp": 1592844893570,
     "user": {
      "displayName": "Rahul Nandanwar",
      "photoUrl": "https://lh3.googleusercontent.com/a-/AOh14GgzzdR9Am4eo47Z0bK_GealsslMtZN4kMTuCCrQ=s64",
      "userId": "17908497525635550506"
     },
     "user_tz": -330
    },
    "id": "m_grS6jt59Fi",
    "outputId": "2b8b1d96-b53d-4711-c11d-e0476e3c673d"
   },
   "outputs": [
    {
     "name": "stdout",
     "output_type": "stream",
     "text": [
      "Requirement already satisfied: tensorflow==1.14 in /usr/local/lib/python3.6/dist-packages (1.14.0)\n",
      "Requirement already satisfied: astor>=0.6.0 in /usr/local/lib/python3.6/dist-packages (from tensorflow==1.14) (0.8.1)\n",
      "Requirement already satisfied: keras-applications>=1.0.6 in /usr/local/lib/python3.6/dist-packages (from tensorflow==1.14) (1.0.8)\n",
      "Requirement already satisfied: gast>=0.2.0 in /usr/local/lib/python3.6/dist-packages (from tensorflow==1.14) (0.3.3)\n",
      "Requirement already satisfied: keras-preprocessing>=1.0.5 in /usr/local/lib/python3.6/dist-packages (from tensorflow==1.14) (1.1.2)\n",
      "Requirement already satisfied: numpy<2.0,>=1.14.5 in /usr/local/lib/python3.6/dist-packages (from tensorflow==1.14) (1.18.5)\n",
      "Requirement already satisfied: termcolor>=1.1.0 in /usr/local/lib/python3.6/dist-packages (from tensorflow==1.14) (1.1.0)\n",
      "Requirement already satisfied: grpcio>=1.8.6 in /usr/local/lib/python3.6/dist-packages (from tensorflow==1.14) (1.29.0)\n",
      "Requirement already satisfied: google-pasta>=0.1.6 in /usr/local/lib/python3.6/dist-packages (from tensorflow==1.14) (0.2.0)\n",
      "Requirement already satisfied: tensorboard<1.15.0,>=1.14.0 in /usr/local/lib/python3.6/dist-packages (from tensorflow==1.14) (1.14.0)\n",
      "Requirement already satisfied: protobuf>=3.6.1 in /usr/local/lib/python3.6/dist-packages (from tensorflow==1.14) (3.10.0)\n",
      "Requirement already satisfied: tensorflow-estimator<1.15.0rc0,>=1.14.0rc0 in /usr/local/lib/python3.6/dist-packages (from tensorflow==1.14) (1.14.0)\n",
      "Requirement already satisfied: absl-py>=0.7.0 in /usr/local/lib/python3.6/dist-packages (from tensorflow==1.14) (0.9.0)\n",
      "Requirement already satisfied: six>=1.10.0 in /usr/local/lib/python3.6/dist-packages (from tensorflow==1.14) (1.12.0)\n",
      "Requirement already satisfied: wheel>=0.26 in /usr/local/lib/python3.6/dist-packages (from tensorflow==1.14) (0.34.2)\n",
      "Requirement already satisfied: wrapt>=1.11.1 in /usr/local/lib/python3.6/dist-packages (from tensorflow==1.14) (1.12.1)\n",
      "Requirement already satisfied: h5py in /usr/local/lib/python3.6/dist-packages (from keras-applications>=1.0.6->tensorflow==1.14) (2.10.0)\n",
      "Requirement already satisfied: setuptools>=41.0.0 in /usr/local/lib/python3.6/dist-packages (from tensorboard<1.15.0,>=1.14.0->tensorflow==1.14) (47.3.1)\n",
      "Requirement already satisfied: werkzeug>=0.11.15 in /usr/local/lib/python3.6/dist-packages (from tensorboard<1.15.0,>=1.14.0->tensorflow==1.14) (1.0.1)\n",
      "Requirement already satisfied: markdown>=2.6.8 in /usr/local/lib/python3.6/dist-packages (from tensorboard<1.15.0,>=1.14.0->tensorflow==1.14) (3.2.2)\n",
      "Requirement already satisfied: importlib-metadata; python_version < \"3.8\" in /usr/local/lib/python3.6/dist-packages (from markdown>=2.6.8->tensorboard<1.15.0,>=1.14.0->tensorflow==1.14) (1.6.1)\n",
      "Requirement already satisfied: zipp>=0.5 in /usr/local/lib/python3.6/dist-packages (from importlib-metadata; python_version < \"3.8\"->markdown>=2.6.8->tensorboard<1.15.0,>=1.14.0->tensorflow==1.14) (3.1.0)\n",
      "Requirement already satisfied: keras in /usr/local/lib/python3.6/dist-packages (2.3.1)\n",
      "Requirement already satisfied: numpy>=1.9.1 in /usr/local/lib/python3.6/dist-packages (from keras) (1.18.5)\n",
      "Requirement already satisfied: pyyaml in /usr/local/lib/python3.6/dist-packages (from keras) (3.13)\n",
      "Requirement already satisfied: h5py in /usr/local/lib/python3.6/dist-packages (from keras) (2.10.0)\n",
      "Requirement already satisfied: scipy>=0.14 in /usr/local/lib/python3.6/dist-packages (from keras) (1.4.1)\n",
      "Requirement already satisfied: keras-preprocessing>=1.0.5 in /usr/local/lib/python3.6/dist-packages (from keras) (1.1.2)\n",
      "Requirement already satisfied: six>=1.9.0 in /usr/local/lib/python3.6/dist-packages (from keras) (1.12.0)\n",
      "Requirement already satisfied: keras-applications>=1.0.6 in /usr/local/lib/python3.6/dist-packages (from keras) (1.0.8)\n"
     ]
    }
   ],
   "source": [
    "!pip install tensorflow==1.14\n",
    "!pip install keras"
   ]
  },
  {
   "cell_type": "code",
   "execution_count": 2,
   "metadata": {
    "colab": {
     "base_uri": "https://localhost:8080/",
     "height": 462
    },
    "colab_type": "code",
    "executionInfo": {
     "elapsed": 10361,
     "status": "ok",
     "timestamp": 1592844895100,
     "user": {
      "displayName": "Rahul Nandanwar",
      "photoUrl": "https://lh3.googleusercontent.com/a-/AOh14GgzzdR9Am4eo47Z0bK_GealsslMtZN4kMTuCCrQ=s64",
      "userId": "17908497525635550506"
     },
     "user_tz": -330
    },
    "id": "gTRUDoZV6D-a",
    "outputId": "505bcaf4-18e1-4cf5-9690-b940cb12a906"
   },
   "outputs": [
    {
     "name": "stderr",
     "output_type": "stream",
     "text": [
      "Using TensorFlow backend.\n",
      "/usr/local/lib/python3.6/dist-packages/tensorflow/python/framework/dtypes.py:516: FutureWarning: Passing (type, 1) or '1type' as a synonym of type is deprecated; in a future version of numpy, it will be understood as (type, (1,)) / '(1,)type'.\n",
      "  _np_qint8 = np.dtype([(\"qint8\", np.int8, 1)])\n",
      "/usr/local/lib/python3.6/dist-packages/tensorflow/python/framework/dtypes.py:517: FutureWarning: Passing (type, 1) or '1type' as a synonym of type is deprecated; in a future version of numpy, it will be understood as (type, (1,)) / '(1,)type'.\n",
      "  _np_quint8 = np.dtype([(\"quint8\", np.uint8, 1)])\n",
      "/usr/local/lib/python3.6/dist-packages/tensorflow/python/framework/dtypes.py:518: FutureWarning: Passing (type, 1) or '1type' as a synonym of type is deprecated; in a future version of numpy, it will be understood as (type, (1,)) / '(1,)type'.\n",
      "  _np_qint16 = np.dtype([(\"qint16\", np.int16, 1)])\n",
      "/usr/local/lib/python3.6/dist-packages/tensorflow/python/framework/dtypes.py:519: FutureWarning: Passing (type, 1) or '1type' as a synonym of type is deprecated; in a future version of numpy, it will be understood as (type, (1,)) / '(1,)type'.\n",
      "  _np_quint16 = np.dtype([(\"quint16\", np.uint16, 1)])\n",
      "/usr/local/lib/python3.6/dist-packages/tensorflow/python/framework/dtypes.py:520: FutureWarning: Passing (type, 1) or '1type' as a synonym of type is deprecated; in a future version of numpy, it will be understood as (type, (1,)) / '(1,)type'.\n",
      "  _np_qint32 = np.dtype([(\"qint32\", np.int32, 1)])\n",
      "/usr/local/lib/python3.6/dist-packages/tensorflow/python/framework/dtypes.py:525: FutureWarning: Passing (type, 1) or '1type' as a synonym of type is deprecated; in a future version of numpy, it will be understood as (type, (1,)) / '(1,)type'.\n",
      "  np_resource = np.dtype([(\"resource\", np.ubyte, 1)])\n",
      "/usr/local/lib/python3.6/dist-packages/tensorboard/compat/tensorflow_stub/dtypes.py:541: FutureWarning: Passing (type, 1) or '1type' as a synonym of type is deprecated; in a future version of numpy, it will be understood as (type, (1,)) / '(1,)type'.\n",
      "  _np_qint8 = np.dtype([(\"qint8\", np.int8, 1)])\n",
      "/usr/local/lib/python3.6/dist-packages/tensorboard/compat/tensorflow_stub/dtypes.py:542: FutureWarning: Passing (type, 1) or '1type' as a synonym of type is deprecated; in a future version of numpy, it will be understood as (type, (1,)) / '(1,)type'.\n",
      "  _np_quint8 = np.dtype([(\"quint8\", np.uint8, 1)])\n",
      "/usr/local/lib/python3.6/dist-packages/tensorboard/compat/tensorflow_stub/dtypes.py:543: FutureWarning: Passing (type, 1) or '1type' as a synonym of type is deprecated; in a future version of numpy, it will be understood as (type, (1,)) / '(1,)type'.\n",
      "  _np_qint16 = np.dtype([(\"qint16\", np.int16, 1)])\n",
      "/usr/local/lib/python3.6/dist-packages/tensorboard/compat/tensorflow_stub/dtypes.py:544: FutureWarning: Passing (type, 1) or '1type' as a synonym of type is deprecated; in a future version of numpy, it will be understood as (type, (1,)) / '(1,)type'.\n",
      "  _np_quint16 = np.dtype([(\"quint16\", np.uint16, 1)])\n",
      "/usr/local/lib/python3.6/dist-packages/tensorboard/compat/tensorflow_stub/dtypes.py:545: FutureWarning: Passing (type, 1) or '1type' as a synonym of type is deprecated; in a future version of numpy, it will be understood as (type, (1,)) / '(1,)type'.\n",
      "  _np_qint32 = np.dtype([(\"qint32\", np.int32, 1)])\n",
      "/usr/local/lib/python3.6/dist-packages/tensorboard/compat/tensorflow_stub/dtypes.py:550: FutureWarning: Passing (type, 1) or '1type' as a synonym of type is deprecated; in a future version of numpy, it will be understood as (type, (1,)) / '(1,)type'.\n",
      "  np_resource = np.dtype([(\"resource\", np.ubyte, 1)])\n"
     ]
    }
   ],
   "source": [
    "#import keras\n",
    "from keras.models import Sequential\n",
    "from keras.layers import Conv2D\n",
    "from keras.layers import MaxPooling2D\n",
    "from keras.layers import Flatten\n",
    "from keras.layers import Dense"
   ]
  },
  {
   "cell_type": "code",
   "execution_count": 3,
   "metadata": {
    "colab": {
     "base_uri": "https://localhost:8080/",
     "height": 71
    },
    "colab_type": "code",
    "executionInfo": {
     "elapsed": 10354,
     "status": "ok",
     "timestamp": 1592844895102,
     "user": {
      "displayName": "Rahul Nandanwar",
      "photoUrl": "https://lh3.googleusercontent.com/a-/AOh14GgzzdR9Am4eo47Z0bK_GealsslMtZN4kMTuCCrQ=s64",
      "userId": "17908497525635550506"
     },
     "user_tz": -330
    },
    "id": "zNgtBPrhEZTB",
    "outputId": "9ff244af-cf47-4860-974b-d6e853f7ed0a"
   },
   "outputs": [
    {
     "name": "stdout",
     "output_type": "stream",
     "text": [
      "WARNING:tensorflow:From /usr/local/lib/python3.6/dist-packages/keras/backend/tensorflow_backend.py:4070: The name tf.nn.max_pool is deprecated. Please use tf.nn.max_pool2d instead.\n",
      "\n"
     ]
    }
   ],
   "source": [
    "classifier = Sequential()\n",
    "\n",
    "classifier.add(Conv2D(6, kernel_size=(5, 5), activation='tanh', input_shape=(300, 300, 3)))\n",
    "\n",
    "classifier.add(MaxPooling2D(pool_size=(2, 2)))\n",
    "\n",
    "classifier.add(Conv2D(6, kernel_size=(5, 5), activation='tanh', input_shape=(300, 300, 3)))\n",
    "\n",
    "classifier.add(MaxPooling2D(pool_size=(2, 2)))\n",
    "\n",
    "classifier.add(Conv2D(16, kernel_size=(5, 5), activation='tanh'))\n",
    "\n",
    "classifier.add(MaxPooling2D(pool_size=(2, 2)))\n",
    "\n",
    "classifier.add(Flatten())\n",
    "\n",
    "classifier.add(Dense(120, activation='tanh'))\n",
    "\n",
    "classifier.add(Dense(84, activation='tanh'))\n",
    "\n",
    "classifier.add(Dense(9, activation='softmax'))\n",
    "\n",
    "#model.compile(loss=keras.metrics.sparse_categorical_crossentropy, optimizer=keras.optimizers.Adam(), metrics=['accuracy'])\n",
    "\n",
    "classifier.compile(optimizer = 'adam', loss = 'sparse_categorical_crossentropy', metrics = ['accuracy'])\n"
   ]
  },
  {
   "cell_type": "code",
   "execution_count": 4,
   "metadata": {
    "colab": {
     "base_uri": "https://localhost:8080/",
     "height": 425
    },
    "colab_type": "code",
    "executionInfo": {
     "elapsed": 10344,
     "status": "ok",
     "timestamp": 1592844895103,
     "user": {
      "displayName": "Rahul Nandanwar",
      "photoUrl": "https://lh3.googleusercontent.com/a-/AOh14GgzzdR9Am4eo47Z0bK_GealsslMtZN4kMTuCCrQ=s64",
      "userId": "17908497525635550506"
     },
     "user_tz": -330
    },
    "id": "AOOPgvSeEyEm",
    "outputId": "dc8a731a-9528-43df-cd62-4becb73a72d6"
   },
   "outputs": [
    {
     "name": "stdout",
     "output_type": "stream",
     "text": [
      "Model: \"sequential_1\"\n",
      "_________________________________________________________________\n",
      "Layer (type)                 Output Shape              Param #   \n",
      "=================================================================\n",
      "conv2d_1 (Conv2D)            (None, 296, 296, 6)       456       \n",
      "_________________________________________________________________\n",
      "max_pooling2d_1 (MaxPooling2 (None, 148, 148, 6)       0         \n",
      "_________________________________________________________________\n",
      "conv2d_2 (Conv2D)            (None, 144, 144, 16)      2416      \n",
      "_________________________________________________________________\n",
      "max_pooling2d_2 (MaxPooling2 (None, 72, 72, 16)        0         \n",
      "_________________________________________________________________\n",
      "flatten_1 (Flatten)          (None, 82944)             0         \n",
      "_________________________________________________________________\n",
      "dense_1 (Dense)              (None, 120)               9953400   \n",
      "_________________________________________________________________\n",
      "dense_2 (Dense)              (None, 84)                10164     \n",
      "_________________________________________________________________\n",
      "dense_3 (Dense)              (None, 9)                 765       \n",
      "=================================================================\n",
      "Total params: 9,967,201\n",
      "Trainable params: 9,967,201\n",
      "Non-trainable params: 0\n",
      "_________________________________________________________________\n"
     ]
    }
   ],
   "source": [
    "classifier.summary()"
   ]
  },
  {
   "cell_type": "code",
   "execution_count": 5,
   "metadata": {
    "colab": {},
    "colab_type": "code",
    "executionInfo": {
     "elapsed": 10334,
     "status": "ok",
     "timestamp": 1592844895104,
     "user": {
      "displayName": "Rahul Nandanwar",
      "photoUrl": "https://lh3.googleusercontent.com/a-/AOh14GgzzdR9Am4eo47Z0bK_GealsslMtZN4kMTuCCrQ=s64",
      "userId": "17908497525635550506"
     },
     "user_tz": -330
    },
    "id": "zFF-CI5d6NiL"
   },
   "outputs": [],
   "source": [
    "# Part 2 - Fitting the CNN to the images\n",
    "\n",
    "from keras.preprocessing.image import ImageDataGenerator\n",
    "\n",
    "train_datagen = ImageDataGenerator(rescale = 1./255,\n",
    "                                   shear_range = 0.2,\n",
    "                                   zoom_range = 0.2,\n",
    "                                   horizontal_flip = True)\n",
    "test_datagen = ImageDataGenerator(rescale = 1./255)"
   ]
  },
  {
   "cell_type": "code",
   "execution_count": 6,
   "metadata": {
    "colab": {
     "base_uri": "https://localhost:8080/",
     "height": 51
    },
    "colab_type": "code",
    "executionInfo": {
     "elapsed": 10793,
     "status": "ok",
     "timestamp": 1592844895574,
     "user": {
      "displayName": "Rahul Nandanwar",
      "photoUrl": "https://lh3.googleusercontent.com/a-/AOh14GgzzdR9Am4eo47Z0bK_GealsslMtZN4kMTuCCrQ=s64",
      "userId": "17908497525635550506"
     },
     "user_tz": -330
    },
    "id": "lY9QrRtL6P0u",
    "outputId": "f42e7790-df2a-4c0e-9333-3608cd0658c3"
   },
   "outputs": [
    {
     "name": "stdout",
     "output_type": "stream",
     "text": [
      "Found 111 images belonging to 9 classes.\n",
      "Found 111 images belonging to 9 classes.\n"
     ]
    }
   ],
   "source": [
    "training_set = train_datagen.flow_from_directory('/content/drive/My Drive/FamilyClassifierData',\n",
    "                                                 target_size = (300, 300),\n",
    "                                                 batch_size = 32,\n",
    "                                                 class_mode = 'binary')\n",
    "\n",
    "test_set = test_datagen.flow_from_directory('/content/drive/My Drive/FamilyClassifierData',\n",
    "                                            target_size = (300, 300),\n",
    "                                            batch_size = 32,\n",
    "                                            class_mode = 'binary')"
   ]
  },
  {
   "cell_type": "code",
   "execution_count": 7,
   "metadata": {
    "colab": {
     "base_uri": "https://localhost:8080/",
     "height": 34
    },
    "colab_type": "code",
    "executionInfo": {
     "elapsed": 10768,
     "status": "ok",
     "timestamp": 1592844895577,
     "user": {
      "displayName": "Rahul Nandanwar",
      "photoUrl": "https://lh3.googleusercontent.com/a-/AOh14GgzzdR9Am4eo47Z0bK_GealsslMtZN4kMTuCCrQ=s64",
      "userId": "17908497525635550506"
     },
     "user_tz": -330
    },
    "id": "zFhOe5NjCn-U",
    "outputId": "c3fa77ab-6bcf-4512-fee5-9898b1f92465"
   },
   "outputs": [
    {
     "data": {
      "text/plain": [
       "<keras.preprocessing.image.DirectoryIterator at 0x7f51e6ca4390>"
      ]
     },
     "execution_count": 7,
     "metadata": {
      "tags": []
     },
     "output_type": "execute_result"
    }
   ],
   "source": [
    "training_set"
   ]
  },
  {
   "cell_type": "code",
   "execution_count": 8,
   "metadata": {
    "colab": {
     "base_uri": "https://localhost:8080/",
     "height": 170
    },
    "colab_type": "code",
    "executionInfo": {
     "elapsed": 10747,
     "status": "ok",
     "timestamp": 1592844895579,
     "user": {
      "displayName": "Rahul Nandanwar",
      "photoUrl": "https://lh3.googleusercontent.com/a-/AOh14GgzzdR9Am4eo47Z0bK_GealsslMtZN4kMTuCCrQ=s64",
      "userId": "17908497525635550506"
     },
     "user_tz": -330
    },
    "id": "4DM_IE0tCo0D",
    "outputId": "c51b63df-20d8-4467-f344-decdfad50660"
   },
   "outputs": [
    {
     "data": {
      "text/plain": [
       "{'Alexa': 0,\n",
       " 'Anup Varadkar': 1,\n",
       " 'Mug': 2,\n",
       " 'Papa': 3,\n",
       " 'Pradip Shirke': 4,\n",
       " 'Rahul Nandanwar': 5,\n",
       " 'Shubham Nandanwar': 6,\n",
       " 'Tejas Patil': 7,\n",
       " 'mummy': 8}"
      ]
     },
     "execution_count": 8,
     "metadata": {
      "tags": []
     },
     "output_type": "execute_result"
    }
   ],
   "source": [
    "training_set.class_indices"
   ]
  },
  {
   "cell_type": "code",
   "execution_count": 9,
   "metadata": {
    "colab": {},
    "colab_type": "code",
    "executionInfo": {
     "elapsed": 10725,
     "status": "ok",
     "timestamp": 1592844895580,
     "user": {
      "displayName": "Rahul Nandanwar",
      "photoUrl": "https://lh3.googleusercontent.com/a-/AOh14GgzzdR9Am4eo47Z0bK_GealsslMtZN4kMTuCCrQ=s64",
      "userId": "17908497525635550506"
     },
     "user_tz": -330
    },
    "id": "kZqcxBsm9zrq"
   },
   "outputs": [],
   "source": [
    "# from sklearn.model_selection import train_test_split\n",
    "# X_train, X_test, y_train, y_test = train_test_split(x, y, test_size = 0.2, random_state = 0)"
   ]
  },
  {
   "cell_type": "code",
   "execution_count": 10,
   "metadata": {
    "colab": {
     "base_uri": "https://localhost:8080/",
     "height": 1000
    },
    "colab_type": "code",
    "executionInfo": {
     "elapsed": 11319353,
     "status": "ok",
     "timestamp": 1592856204225,
     "user": {
      "displayName": "Rahul Nandanwar",
      "photoUrl": "https://lh3.googleusercontent.com/a-/AOh14GgzzdR9Am4eo47Z0bK_GealsslMtZN4kMTuCCrQ=s64",
      "userId": "17908497525635550506"
     },
     "user_tz": -330
    },
    "id": "tVO_-13WDDuc",
    "outputId": "80287bdc-7522-444b-b5f3-c3f88a2a5349"
   },
   "outputs": [
    {
     "name": "stdout",
     "output_type": "stream",
     "text": [
      "WARNING:tensorflow:From /usr/local/lib/python3.6/dist-packages/keras/backend/tensorflow_backend.py:422: The name tf.global_variables is deprecated. Please use tf.compat.v1.global_variables instead.\n",
      "\n",
      "Epoch 1/50\n",
      "25/25 [==============================] - 235s 9s/step - loss: 2.1186 - accuracy: 0.2863 - val_loss: 1.6560 - val_accuracy: 0.3333\n",
      "Epoch 2/50\n",
      "25/25 [==============================] - 224s 9s/step - loss: 1.6224 - accuracy: 0.4585 - val_loss: 1.4505 - val_accuracy: 0.5315\n",
      "Epoch 3/50\n",
      "25/25 [==============================] - 223s 9s/step - loss: 1.2237 - accuracy: 0.6232 - val_loss: 0.9414 - val_accuracy: 0.7027\n",
      "Epoch 4/50\n",
      "25/25 [==============================] - 235s 9s/step - loss: 0.9327 - accuracy: 0.7393 - val_loss: 1.0564 - val_accuracy: 0.7568\n",
      "Epoch 5/50\n",
      "25/25 [==============================] - 225s 9s/step - loss: 0.7269 - accuracy: 0.8066 - val_loss: 0.6242 - val_accuracy: 0.8468\n",
      "Epoch 6/50\n",
      "25/25 [==============================] - 221s 9s/step - loss: 0.4846 - accuracy: 0.8972 - val_loss: 0.4718 - val_accuracy: 0.9369\n",
      "Epoch 7/50\n",
      "25/25 [==============================] - 223s 9s/step - loss: 0.3108 - accuracy: 0.9484 - val_loss: 0.1612 - val_accuracy: 0.9550\n",
      "Epoch 8/50\n",
      "25/25 [==============================] - 236s 9s/step - loss: 0.2681 - accuracy: 0.9585 - val_loss: 0.1758 - val_accuracy: 0.9730\n",
      "Epoch 9/50\n",
      "25/25 [==============================] - 220s 9s/step - loss: 0.2346 - accuracy: 0.9545 - val_loss: 0.2162 - val_accuracy: 0.9369\n",
      "Epoch 10/50\n",
      "25/25 [==============================] - 224s 9s/step - loss: 0.1449 - accuracy: 0.9818 - val_loss: 0.0573 - val_accuracy: 0.9820\n",
      "Epoch 11/50\n",
      "25/25 [==============================] - 225s 9s/step - loss: 0.1025 - accuracy: 0.9928 - val_loss: 0.0747 - val_accuracy: 1.0000\n",
      "Epoch 12/50\n",
      "25/25 [==============================] - 234s 9s/step - loss: 0.0772 - accuracy: 0.9941 - val_loss: 0.0494 - val_accuracy: 1.0000\n",
      "Epoch 13/50\n",
      "25/25 [==============================] - 223s 9s/step - loss: 0.0495 - accuracy: 1.0000 - val_loss: 0.0699 - val_accuracy: 1.0000\n",
      "Epoch 14/50\n",
      "25/25 [==============================] - 226s 9s/step - loss: 0.0380 - accuracy: 1.0000 - val_loss: 0.0188 - val_accuracy: 1.0000\n",
      "Epoch 15/50\n",
      "25/25 [==============================] - 229s 9s/step - loss: 0.0285 - accuracy: 1.0000 - val_loss: 0.0333 - val_accuracy: 1.0000\n",
      "Epoch 16/50\n",
      "25/25 [==============================] - 242s 10s/step - loss: 0.0251 - accuracy: 1.0000 - val_loss: 0.0161 - val_accuracy: 0.9910\n",
      "Epoch 17/50\n",
      "25/25 [==============================] - 222s 9s/step - loss: 0.0198 - accuracy: 1.0000 - val_loss: 0.0274 - val_accuracy: 1.0000\n",
      "Epoch 18/50\n",
      "25/25 [==============================] - 223s 9s/step - loss: 0.0172 - accuracy: 1.0000 - val_loss: 0.0233 - val_accuracy: 1.0000\n",
      "Epoch 19/50\n",
      "25/25 [==============================] - 225s 9s/step - loss: 0.0149 - accuracy: 1.0000 - val_loss: 0.0215 - val_accuracy: 1.0000\n",
      "Epoch 20/50\n",
      "25/25 [==============================] - 234s 9s/step - loss: 0.0122 - accuracy: 1.0000 - val_loss: 0.0078 - val_accuracy: 1.0000\n",
      "Epoch 21/50\n",
      "25/25 [==============================] - 223s 9s/step - loss: 0.0108 - accuracy: 1.0000 - val_loss: 0.0134 - val_accuracy: 1.0000\n",
      "Epoch 22/50\n",
      "25/25 [==============================] - 221s 9s/step - loss: 0.0091 - accuracy: 1.0000 - val_loss: 0.0117 - val_accuracy: 1.0000\n",
      "Epoch 23/50\n",
      "25/25 [==============================] - 222s 9s/step - loss: 0.0082 - accuracy: 1.0000 - val_loss: 0.0088 - val_accuracy: 1.0000\n",
      "Epoch 24/50\n",
      "25/25 [==============================] - 238s 10s/step - loss: 0.0076 - accuracy: 1.0000 - val_loss: 0.0061 - val_accuracy: 1.0000\n",
      "Epoch 25/50\n",
      "25/25 [==============================] - 220s 9s/step - loss: 0.0068 - accuracy: 1.0000 - val_loss: 0.0219 - val_accuracy: 1.0000\n",
      "Epoch 26/50\n",
      "25/25 [==============================] - 224s 9s/step - loss: 0.0067 - accuracy: 1.0000 - val_loss: 0.0085 - val_accuracy: 1.0000\n",
      "Epoch 27/50\n",
      "25/25 [==============================] - 223s 9s/step - loss: 0.0057 - accuracy: 1.0000 - val_loss: 0.0219 - val_accuracy: 1.0000\n",
      "Epoch 28/50\n",
      "25/25 [==============================] - 235s 9s/step - loss: 0.0054 - accuracy: 1.0000 - val_loss: 0.0062 - val_accuracy: 1.0000\n",
      "Epoch 29/50\n",
      "25/25 [==============================] - 224s 9s/step - loss: 0.0050 - accuracy: 1.0000 - val_loss: 0.0079 - val_accuracy: 1.0000\n",
      "Epoch 30/50\n",
      "25/25 [==============================] - 223s 9s/step - loss: 0.0047 - accuracy: 1.0000 - val_loss: 0.0076 - val_accuracy: 1.0000\n",
      "Epoch 31/50\n",
      "25/25 [==============================] - 222s 9s/step - loss: 0.0045 - accuracy: 1.0000 - val_loss: 0.0270 - val_accuracy: 1.0000\n",
      "Epoch 32/50\n",
      "25/25 [==============================] - 237s 9s/step - loss: 0.0045 - accuracy: 1.0000 - val_loss: 0.0053 - val_accuracy: 1.0000\n",
      "Epoch 33/50\n",
      "25/25 [==============================] - 222s 9s/step - loss: 0.0040 - accuracy: 1.0000 - val_loss: 0.0045 - val_accuracy: 1.0000\n",
      "Epoch 34/50\n",
      "25/25 [==============================] - 222s 9s/step - loss: 0.0037 - accuracy: 1.0000 - val_loss: 0.0031 - val_accuracy: 1.0000\n",
      "Epoch 35/50\n",
      "25/25 [==============================] - 225s 9s/step - loss: 0.0035 - accuracy: 1.0000 - val_loss: 0.0147 - val_accuracy: 1.0000\n",
      "Epoch 36/50\n",
      "25/25 [==============================] - 234s 9s/step - loss: 0.0033 - accuracy: 1.0000 - val_loss: 0.0027 - val_accuracy: 1.0000\n",
      "Epoch 37/50\n",
      "25/25 [==============================] - 221s 9s/step - loss: 0.0030 - accuracy: 1.0000 - val_loss: 0.0035 - val_accuracy: 1.0000\n",
      "Epoch 38/50\n",
      "25/25 [==============================] - 223s 9s/step - loss: 0.0031 - accuracy: 1.0000 - val_loss: 0.0033 - val_accuracy: 1.0000\n",
      "Epoch 39/50\n",
      "25/25 [==============================] - 221s 9s/step - loss: 0.0029 - accuracy: 1.0000 - val_loss: 0.0079 - val_accuracy: 1.0000\n",
      "Epoch 40/50\n",
      "25/25 [==============================] - 236s 9s/step - loss: 0.0027 - accuracy: 1.0000 - val_loss: 0.0048 - val_accuracy: 1.0000\n",
      "Epoch 41/50\n",
      "25/25 [==============================] - 219s 9s/step - loss: 0.0026 - accuracy: 1.0000 - val_loss: 0.0015 - val_accuracy: 1.0000\n",
      "Epoch 42/50\n",
      "25/25 [==============================] - 223s 9s/step - loss: 0.0025 - accuracy: 1.0000 - val_loss: 0.0076 - val_accuracy: 1.0000\n",
      "Epoch 43/50\n",
      "25/25 [==============================] - 223s 9s/step - loss: 0.0024 - accuracy: 1.0000 - val_loss: 0.0017 - val_accuracy: 1.0000\n",
      "Epoch 44/50\n",
      "25/25 [==============================] - 233s 9s/step - loss: 0.0023 - accuracy: 1.0000 - val_loss: 0.0035 - val_accuracy: 1.0000\n",
      "Epoch 45/50\n",
      "25/25 [==============================] - 221s 9s/step - loss: 0.0021 - accuracy: 1.0000 - val_loss: 0.0023 - val_accuracy: 1.0000\n",
      "Epoch 46/50\n",
      "25/25 [==============================] - 223s 9s/step - loss: 0.0020 - accuracy: 1.0000 - val_loss: 0.0027 - val_accuracy: 1.0000\n",
      "Epoch 47/50\n",
      "25/25 [==============================] - 220s 9s/step - loss: 0.0020 - accuracy: 1.0000 - val_loss: 0.0058 - val_accuracy: 1.0000\n",
      "Epoch 48/50\n",
      "25/25 [==============================] - 236s 9s/step - loss: 0.0019 - accuracy: 1.0000 - val_loss: 0.0016 - val_accuracy: 1.0000\n",
      "Epoch 49/50\n",
      "25/25 [==============================] - 221s 9s/step - loss: 0.0019 - accuracy: 1.0000 - val_loss: 0.0029 - val_accuracy: 1.0000\n",
      "Epoch 50/50\n",
      "25/25 [==============================] - 222s 9s/step - loss: 0.0017 - accuracy: 1.0000 - val_loss: 0.0062 - val_accuracy: 1.0000\n"
     ]
    }
   ],
   "source": [
    "model = classifier.fit_generator(training_set, steps_per_epoch = 25, epochs = 50, validation_data = test_set, validation_steps = 20)\n",
    "\n"
   ]
  },
  {
   "cell_type": "code",
   "execution_count": 11,
   "metadata": {
    "colab": {
     "base_uri": "https://localhost:8080/",
     "height": 34
    },
    "colab_type": "code",
    "executionInfo": {
     "elapsed": 11319341,
     "status": "ok",
     "timestamp": 1592856204230,
     "user": {
      "displayName": "Rahul Nandanwar",
      "photoUrl": "https://lh3.googleusercontent.com/a-/AOh14GgzzdR9Am4eo47Z0bK_GealsslMtZN4kMTuCCrQ=s64",
      "userId": "17908497525635550506"
     },
     "user_tz": -330
    },
    "id": "fYTRObRPK206",
    "outputId": "ff025232-f892-4996-8602-d4e532fc389d"
   },
   "outputs": [
    {
     "name": "stdout",
     "output_type": "stream",
     "text": [
      "Saved model to disk\n"
     ]
    }
   ],
   "source": [
    "classifier.save(\"model_familyClassification_LeNet.h5\")\n",
    "print(\"Saved model to disk\")"
   ]
  },
  {
   "cell_type": "code",
   "execution_count": 12,
   "metadata": {
    "colab": {},
    "colab_type": "code",
    "executionInfo": {
     "elapsed": 11319860,
     "status": "ok",
     "timestamp": 1592856204759,
     "user": {
      "displayName": "Rahul Nandanwar",
      "photoUrl": "https://lh3.googleusercontent.com/a-/AOh14GgzzdR9Am4eo47Z0bK_GealsslMtZN4kMTuCCrQ=s64",
      "userId": "17908497525635550506"
     },
     "user_tz": -330
    },
    "id": "duSPWitByjmY"
   },
   "outputs": [],
   "source": [
    "import numpy as np\n",
    "from keras.preprocessing import image\n",
    "test_image = image.load_img(r'/content/drive/My Drive/FirstCNN_train_Data/Alexa/IMG_20200530_230047.jpg', target_size = (300, 300))\n",
    "test_image = image.img_to_array(test_image)\n",
    "test_image = np.expand_dims(test_image, axis = 0)"
   ]
  },
  {
   "cell_type": "code",
   "execution_count": 13,
   "metadata": {
    "colab": {},
    "colab_type": "code",
    "executionInfo": {
     "elapsed": 11319856,
     "status": "ok",
     "timestamp": 1592856204763,
     "user": {
      "displayName": "Rahul Nandanwar",
      "photoUrl": "https://lh3.googleusercontent.com/a-/AOh14GgzzdR9Am4eo47Z0bK_GealsslMtZN4kMTuCCrQ=s64",
      "userId": "17908497525635550506"
     },
     "user_tz": -330
    },
    "id": "ED3YLMWgeLin"
   },
   "outputs": [],
   "source": [
    "result = classifier.predict(test_image)\n",
    "result = np.argmax(result)"
   ]
  },
  {
   "cell_type": "code",
   "execution_count": 14,
   "metadata": {
    "colab": {
     "base_uri": "https://localhost:8080/",
     "height": 34
    },
    "colab_type": "code",
    "executionInfo": {
     "elapsed": 11319851,
     "status": "ok",
     "timestamp": 1592856204766,
     "user": {
      "displayName": "Rahul Nandanwar",
      "photoUrl": "https://lh3.googleusercontent.com/a-/AOh14GgzzdR9Am4eo47Z0bK_GealsslMtZN4kMTuCCrQ=s64",
      "userId": "17908497525635550506"
     },
     "user_tz": -330
    },
    "id": "PAlH5vCCkBXW",
    "outputId": "21239722-390a-4a40-a712-654d59654416"
   },
   "outputs": [
    {
     "data": {
      "text/plain": [
       "0"
      ]
     },
     "execution_count": 14,
     "metadata": {
      "tags": []
     },
     "output_type": "execute_result"
    }
   ],
   "source": [
    "result"
   ]
  },
  {
   "cell_type": "code",
   "execution_count": 14,
   "metadata": {
    "colab": {},
    "colab_type": "code",
    "executionInfo": {
     "elapsed": 11319847,
     "status": "ok",
     "timestamp": 1592856204771,
     "user": {
      "displayName": "Rahul Nandanwar",
      "photoUrl": "https://lh3.googleusercontent.com/a-/AOh14GgzzdR9Am4eo47Z0bK_GealsslMtZN4kMTuCCrQ=s64",
      "userId": "17908497525635550506"
     },
     "user_tz": -330
    },
    "id": "fSm_cSp-kCqN"
   },
   "outputs": [],
   "source": []
  }
 ],
 "metadata": {
  "colab": {
   "authorship_tag": "ABX9TyPLSDELi++ApZCvv7PXvi9H",
   "collapsed_sections": [],
   "mount_file_id": "1YNRUDcgr5JKQQpeGC62GyPs97vTzzU6a",
   "name": "LeNet CNN Network.ipynb",
   "provenance": []
  },
  "kernelspec": {
   "display_name": "Python 3",
   "language": "python",
   "name": "python3"
  },
  "language_info": {
   "codemirror_mode": {
    "name": "ipython",
    "version": 3
   },
   "file_extension": ".py",
   "mimetype": "text/x-python",
   "name": "python",
   "nbconvert_exporter": "python",
   "pygments_lexer": "ipython3",
   "version": "3.7.6"
  }
 },
 "nbformat": 4,
 "nbformat_minor": 1
}
