{
 "cells": [
  {
   "cell_type": "markdown",
   "metadata": {},
   "source": [
    "### Basic CNN Archtecture"
   ]
  },
  {
   "cell_type": "code",
   "execution_count": 1,
   "metadata": {},
   "outputs": [],
   "source": [
    "import tensorflow"
   ]
  },
  {
   "cell_type": "code",
   "execution_count": 2,
   "metadata": {
    "colab": {},
    "colab_type": "code",
    "id": "4Eo121Km-iV_"
   },
   "outputs": [],
   "source": [
    "from keras.models import Sequential\n",
    "from keras.layers import Conv2D\n",
    "from keras.layers import MaxPooling2D\n",
    "from keras.layers import Flatten\n",
    "from keras.layers import Dense"
   ]
  },
  {
   "cell_type": "code",
   "execution_count": 3,
   "metadata": {
    "colab": {},
    "colab_type": "code",
    "id": "UsyO9c8Y_XdH"
   },
   "outputs": [],
   "source": [
    "# Initialising the CNN\n",
    "classifier = Sequential()\n",
    "\n",
    "# Step 1 - Convolution\n",
    "classifier.add(Conv2D(32, (3, 3), input_shape = (64, 64, 3), activation = 'relu'))\n",
    "\n",
    "# Step 2 - Pooling\n",
    "classifier.add(MaxPooling2D(pool_size = (2, 2)))\n",
    "\n",
    "# Adding a second convolutional layer\n",
    "\n",
    "\n",
    "# Step 3 - Flattening\n",
    "classifier.add(Flatten())\n",
    "\n",
    "# Step 4 - Full connection\n",
    "classifier.add(Dense(units = 128, activation = 'relu'))\n",
    "\n",
    "classifier.add(Dense(units = 14, activation = 'softmax'))\n",
    "\n",
    "# Compiling the CNN\n",
    "classifier.compile(optimizer = 'adam', loss = 'sparse_categorical_crossentropy', metrics = ['accuracy'])"
   ]
  },
  {
   "cell_type": "code",
   "execution_count": 4,
   "metadata": {
    "colab": {},
    "colab_type": "code",
    "id": "Ehd44FsC_SNl"
   },
   "outputs": [],
   "source": [
    "# Part 2 - Fitting the CNN to the images\n",
    "\n",
    "from keras.preprocessing.image import ImageDataGenerator\n",
    "\n",
    "train_datagen = ImageDataGenerator(rescale = 1./255,\n",
    "                                   shear_range = 0.2,\n",
    "                                   zoom_range = 0.2,\n",
    "                                   horizontal_flip = True)\n",
    "test_datagen = ImageDataGenerator(rescale = 1./255)"
   ]
  },
  {
   "cell_type": "code",
   "execution_count": 5,
   "metadata": {
    "colab": {
     "base_uri": "https://localhost:8080/",
     "height": 51
    },
    "colab_type": "code",
    "executionInfo": {
     "elapsed": 1320,
     "status": "ok",
     "timestamp": 1591118319199,
     "user": {
      "displayName": "Rahul Nandanwar",
      "photoUrl": "https://lh3.googleusercontent.com/a-/AOh14GgzzdR9Am4eo47Z0bK_GealsslMtZN4kMTuCCrQ=s64",
      "userId": "17908497525635550506"
     },
     "user_tz": -330
    },
    "id": "mK3kNX6__OPV",
    "outputId": "08023edc-28a1-4128-d281-5b3b0672ad0e"
   },
   "outputs": [
    {
     "name": "stdout",
     "output_type": "stream",
     "text": [
      "Found 863 images belonging to 14 classes.\n",
      "Found 863 images belonging to 14 classes.\n"
     ]
    }
   ],
   "source": [
    "training_set = train_datagen.flow_from_directory(r'C:\\Users\\ADMIN\\iNeuron DL_CV_NLP\\TrainData\\FirstCNN',\n",
    "                                                 target_size = (64, 64),\n",
    "                                                 batch_size = 32,\n",
    "                                                 class_mode = 'binary')\n",
    "\n",
    "test_set = test_datagen.flow_from_directory(r'C:\\Users\\ADMIN\\iNeuron DL_CV_NLP\\TrainData\\FirstCNN',\n",
    "                                            target_size = (64, 64),\n",
    "                                            batch_size = 32,\n",
    "                                            class_mode = 'binary')"
   ]
  },
  {
   "cell_type": "code",
   "execution_count": 6,
   "metadata": {
    "colab": {
     "base_uri": "https://localhost:8080/",
     "height": 34
    },
    "colab_type": "code",
    "executionInfo": {
     "elapsed": 1013,
     "status": "ok",
     "timestamp": 1591118320381,
     "user": {
      "displayName": "Rahul Nandanwar",
      "photoUrl": "https://lh3.googleusercontent.com/a-/AOh14GgzzdR9Am4eo47Z0bK_GealsslMtZN4kMTuCCrQ=s64",
      "userId": "17908497525635550506"
     },
     "user_tz": -330
    },
    "id": "lGyc3PAc-Mtw",
    "outputId": "39145740-5e57-45c2-bcd2-392141435768"
   },
   "outputs": [
    {
     "data": {
      "text/plain": [
       "<keras_preprocessing.image.directory_iterator.DirectoryIterator at 0x16945334cf8>"
      ]
     },
     "execution_count": 6,
     "metadata": {},
     "output_type": "execute_result"
    }
   ],
   "source": [
    "training_set"
   ]
  },
  {
   "cell_type": "code",
   "execution_count": 7,
   "metadata": {
    "colab": {
     "base_uri": "https://localhost:8080/",
     "height": 34
    },
    "colab_type": "code",
    "executionInfo": {
     "elapsed": 1252,
     "status": "ok",
     "timestamp": 1591118322427,
     "user": {
      "displayName": "Rahul Nandanwar",
      "photoUrl": "https://lh3.googleusercontent.com/a-/AOh14GgzzdR9Am4eo47Z0bK_GealsslMtZN4kMTuCCrQ=s64",
      "userId": "17908497525635550506"
     },
     "user_tz": -330
    },
    "id": "m_GsOQFi-Jhl",
    "outputId": "d732733c-b33c-4711-f592-0a70e47ac845"
   },
   "outputs": [
    {
     "data": {
      "text/plain": [
       "{'Alexa': 0,\n",
       " 'Anup Varadkar': 1,\n",
       " 'Camera': 2,\n",
       " 'Glass': 3,\n",
       " 'MosquitoMachine': 4,\n",
       " 'Mouse': 5,\n",
       " 'Mug': 6,\n",
       " 'Papa': 7,\n",
       " 'Pradip Shirke': 8,\n",
       " 'Rahul Nandanwar': 9,\n",
       " 'Shubham Nandanwar': 10,\n",
       " 'Spects': 11,\n",
       " 'Tejas Patil': 12,\n",
       " 'mummy': 13}"
      ]
     },
     "execution_count": 7,
     "metadata": {},
     "output_type": "execute_result"
    }
   ],
   "source": [
    "training_set.class_indices"
   ]
  },
  {
   "cell_type": "code",
   "execution_count": 8,
   "metadata": {
    "colab": {
     "base_uri": "https://localhost:8080/",
     "height": 904
    },
    "colab_type": "code",
    "executionInfo": {
     "elapsed": 7533094,
     "status": "ok",
     "timestamp": 1591125859581,
     "user": {
      "displayName": "Rahul Nandanwar",
      "photoUrl": "https://lh3.googleusercontent.com/a-/AOh14GgzzdR9Am4eo47Z0bK_GealsslMtZN4kMTuCCrQ=s64",
      "userId": "17908497525635550506"
     },
     "user_tz": -330
    },
    "id": "0i6Lg7l2CcFk",
    "outputId": "c13d898e-f57f-4151-8eb6-be376a1a1543"
   },
   "outputs": [
    {
     "name": "stdout",
     "output_type": "stream",
     "text": [
      "WARNING:tensorflow:From <ipython-input-8-365005a916c9>:5: Model.fit_generator (from tensorflow.python.keras.engine.training) is deprecated and will be removed in a future version.\n",
      "Instructions for updating:\n",
      "Please use Model.fit, which supports generators.\n",
      "Epoch 1/2\n",
      "10/10 [==============================] - 173s 17s/step - loss: 2.0449 - accuracy: 0.7812 - val_loss: 0.4529 - val_accuracy: 0.9375\n",
      "Epoch 2/2\n",
      "10/10 [==============================] - 173s 17s/step - loss: 0.8920 - accuracy: 0.8438 - val_loss: 0.9667 - val_accuracy: 0.8125\n",
      "Saved model to disk\n"
     ]
    }
   ],
   "source": [
    "model = classifier.fit_generator(training_set,\n",
    "                         steps_per_epoch = 10,\n",
    "                         epochs = 2,\n",
    "                         validation_data = test_set,    \n",
    "                         validation_steps = 2)\n",
    "\n",
    "classifier.save(\"model_family.h5\")\n",
    "print(\"Saved model to disk\")"
   ]
  },
  {
   "cell_type": "code",
   "execution_count": 9,
   "metadata": {
    "colab": {},
    "colab_type": "code",
    "id": "WHnIRqdugGRU"
   },
   "outputs": [],
   "source": [
    "classifier.save(\"model_family.h5\")"
   ]
  },
  {
   "cell_type": "code",
   "execution_count": 10,
   "metadata": {},
   "outputs": [],
   "source": [
    "#Prediction Part"
   ]
  },
  {
   "cell_type": "code",
   "execution_count": 14,
   "metadata": {
    "colab": {},
    "colab_type": "code",
    "id": "rIPwiMjPxjC4"
   },
   "outputs": [],
   "source": [
    "import numpy as np\n",
    "from keras.preprocessing import image\n",
    "test_image = image.load_img(r'C:\\Users\\ADMIN\\iNeuron DL_CV_NLP\\TrainData\\FirstCNN\\Alexa\\IMG_20200530_230047.jpg', target_size = (64, 64))\n",
    "test_image = image.img_to_array(test_image)\n",
    "test_image = np.expand_dims(test_image, axis = 0)"
   ]
  },
  {
   "cell_type": "code",
   "execution_count": 15,
   "metadata": {},
   "outputs": [],
   "source": [
    "result = classifier.predict(test_image)\n",
    "result = np.argmax(result)"
   ]
  },
  {
   "cell_type": "code",
   "execution_count": 16,
   "metadata": {},
   "outputs": [
    {
     "data": {
      "text/plain": [
       "2"
      ]
     },
     "execution_count": 16,
     "metadata": {},
     "output_type": "execute_result"
    }
   ],
   "source": [
    "result"
   ]
  }
 ],
 "metadata": {
  "colab": {
   "authorship_tag": "ABX9TyNvOgbtkTJ3JgbGFEecmACI",
   "collapsed_sections": [],
   "mount_file_id": "1gE7tIGX1ckyHMkCFu9XBkgXsLmS0z59k",
   "name": "First_CNN.ipynb",
   "provenance": []
  },
  "kernelspec": {
   "display_name": "Python 3",
   "language": "python",
   "name": "python3"
  },
  "language_info": {
   "codemirror_mode": {
    "name": "ipython",
    "version": 3
   },
   "file_extension": ".py",
   "mimetype": "text/x-python",
   "name": "python",
   "nbconvert_exporter": "python",
   "pygments_lexer": "ipython3",
   "version": "3.7.0"
  }
 },
 "nbformat": 4,
 "nbformat_minor": 1
}
