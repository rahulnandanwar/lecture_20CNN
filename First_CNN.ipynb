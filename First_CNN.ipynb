{
 "cells": [
  {
   "cell_type": "code",
   "execution_count": null,
   "metadata": {
    "colab": {
     "base_uri": "https://localhost:8080/",
     "height": 836
    },
    "colab_type": "code",
    "executionInfo": {
     "elapsed": 53641,
     "status": "ok",
     "timestamp": 1591116724719,
     "user": {
      "displayName": "Rahul Nandanwar",
      "photoUrl": "https://lh3.googleusercontent.com/a-/AOh14GgzzdR9Am4eo47Z0bK_GealsslMtZN4kMTuCCrQ=s64",
      "userId": "17908497525635550506"
     },
     "user_tz": -330
    },
    "id": "EJHuQ0Fd_diY",
    "outputId": "ae99327b-6baa-4414-b8dd-090bcc13e679"
   },
   "outputs": [
    {
     "name": "stdout",
     "output_type": "stream",
     "text": [
      "Collecting tensorflow==1.14\n",
      "\u001b[?25l  Downloading https://files.pythonhosted.org/packages/de/f0/96fb2e0412ae9692dbf400e5b04432885f677ad6241c088ccc5fe7724d69/tensorflow-1.14.0-cp36-cp36m-manylinux1_x86_64.whl (109.2MB)\n",
      "\u001b[K     |████████████████████████████████| 109.2MB 62kB/s \n",
      "\u001b[?25hRequirement already satisfied: gast>=0.2.0 in /usr/local/lib/python3.6/dist-packages (from tensorflow==1.14) (0.3.3)\n",
      "Requirement already satisfied: keras-preprocessing>=1.0.5 in /usr/local/lib/python3.6/dist-packages (from tensorflow==1.14) (1.1.2)\n",
      "Requirement already satisfied: protobuf>=3.6.1 in /usr/local/lib/python3.6/dist-packages (from tensorflow==1.14) (3.10.0)\n",
      "Requirement already satisfied: wrapt>=1.11.1 in /usr/local/lib/python3.6/dist-packages (from tensorflow==1.14) (1.12.1)\n",
      "Requirement already satisfied: six>=1.10.0 in /usr/local/lib/python3.6/dist-packages (from tensorflow==1.14) (1.12.0)\n",
      "Requirement already satisfied: astor>=0.6.0 in /usr/local/lib/python3.6/dist-packages (from tensorflow==1.14) (0.8.1)\n",
      "Collecting tensorboard<1.15.0,>=1.14.0\n",
      "\u001b[?25l  Downloading https://files.pythonhosted.org/packages/91/2d/2ed263449a078cd9c8a9ba50ebd50123adf1f8cfbea1492f9084169b89d9/tensorboard-1.14.0-py3-none-any.whl (3.1MB)\n",
      "\u001b[K     |████████████████████████████████| 3.2MB 47.3MB/s \n",
      "\u001b[?25hRequirement already satisfied: termcolor>=1.1.0 in /usr/local/lib/python3.6/dist-packages (from tensorflow==1.14) (1.1.0)\n",
      "Requirement already satisfied: absl-py>=0.7.0 in /usr/local/lib/python3.6/dist-packages (from tensorflow==1.14) (0.9.0)\n",
      "Requirement already satisfied: grpcio>=1.8.6 in /usr/local/lib/python3.6/dist-packages (from tensorflow==1.14) (1.29.0)\n",
      "Requirement already satisfied: google-pasta>=0.1.6 in /usr/local/lib/python3.6/dist-packages (from tensorflow==1.14) (0.2.0)\n",
      "Requirement already satisfied: wheel>=0.26 in /usr/local/lib/python3.6/dist-packages (from tensorflow==1.14) (0.34.2)\n",
      "Requirement already satisfied: keras-applications>=1.0.6 in /usr/local/lib/python3.6/dist-packages (from tensorflow==1.14) (1.0.8)\n",
      "Requirement already satisfied: numpy<2.0,>=1.14.5 in /usr/local/lib/python3.6/dist-packages (from tensorflow==1.14) (1.18.4)\n",
      "Collecting tensorflow-estimator<1.15.0rc0,>=1.14.0rc0\n",
      "\u001b[?25l  Downloading https://files.pythonhosted.org/packages/3c/d5/21860a5b11caf0678fbc8319341b0ae21a07156911132e0e71bffed0510d/tensorflow_estimator-1.14.0-py2.py3-none-any.whl (488kB)\n",
      "\u001b[K     |████████████████████████████████| 491kB 40.7MB/s \n",
      "\u001b[?25hRequirement already satisfied: setuptools in /usr/local/lib/python3.6/dist-packages (from protobuf>=3.6.1->tensorflow==1.14) (47.1.1)\n",
      "Requirement already satisfied: werkzeug>=0.11.15 in /usr/local/lib/python3.6/dist-packages (from tensorboard<1.15.0,>=1.14.0->tensorflow==1.14) (1.0.1)\n",
      "Requirement already satisfied: markdown>=2.6.8 in /usr/local/lib/python3.6/dist-packages (from tensorboard<1.15.0,>=1.14.0->tensorflow==1.14) (3.2.2)\n",
      "Requirement already satisfied: h5py in /usr/local/lib/python3.6/dist-packages (from keras-applications>=1.0.6->tensorflow==1.14) (2.10.0)\n",
      "Requirement already satisfied: importlib-metadata; python_version < \"3.8\" in /usr/local/lib/python3.6/dist-packages (from markdown>=2.6.8->tensorboard<1.15.0,>=1.14.0->tensorflow==1.14) (1.6.0)\n",
      "Requirement already satisfied: zipp>=0.5 in /usr/local/lib/python3.6/dist-packages (from importlib-metadata; python_version < \"3.8\"->markdown>=2.6.8->tensorboard<1.15.0,>=1.14.0->tensorflow==1.14) (3.1.0)\n",
      "Installing collected packages: tensorboard, tensorflow-estimator, tensorflow\n",
      "  Found existing installation: tensorboard 2.2.2\n",
      "    Uninstalling tensorboard-2.2.2:\n",
      "      Successfully uninstalled tensorboard-2.2.2\n",
      "  Found existing installation: tensorflow-estimator 2.2.0\n",
      "    Uninstalling tensorflow-estimator-2.2.0:\n",
      "      Successfully uninstalled tensorflow-estimator-2.2.0\n",
      "  Found existing installation: tensorflow 2.2.0\n",
      "    Uninstalling tensorflow-2.2.0:\n",
      "      Successfully uninstalled tensorflow-2.2.0\n",
      "Successfully installed tensorboard-1.14.0 tensorflow-1.14.0 tensorflow-estimator-1.14.0\n",
      "Requirement already satisfied: keras in /usr/local/lib/python3.6/dist-packages (2.3.1)\n",
      "Requirement already satisfied: pyyaml in /usr/local/lib/python3.6/dist-packages (from keras) (3.13)\n",
      "Requirement already satisfied: keras-preprocessing>=1.0.5 in /usr/local/lib/python3.6/dist-packages (from keras) (1.1.2)\n",
      "Requirement already satisfied: scipy>=0.14 in /usr/local/lib/python3.6/dist-packages (from keras) (1.4.1)\n",
      "Requirement already satisfied: keras-applications>=1.0.6 in /usr/local/lib/python3.6/dist-packages (from keras) (1.0.8)\n",
      "Requirement already satisfied: h5py in /usr/local/lib/python3.6/dist-packages (from keras) (2.10.0)\n",
      "Requirement already satisfied: numpy>=1.9.1 in /usr/local/lib/python3.6/dist-packages (from keras) (1.18.4)\n",
      "Requirement already satisfied: six>=1.9.0 in /usr/local/lib/python3.6/dist-packages (from keras) (1.12.0)\n"
     ]
    }
   ],
   "source": [
    "!pip install tensorflow==1.14\n",
    "!pip install keras"
   ]
  },
  {
   "cell_type": "code",
   "execution_count": null,
   "metadata": {
    "colab": {},
    "colab_type": "code",
    "id": "4Eo121Km-iV_"
   },
   "outputs": [],
   "source": [
    "from keras.models import Sequential\n",
    "from keras.layers import Conv2D\n",
    "from keras.layers import MaxPooling2D\n",
    "from keras.layers import Flatten\n",
    "from keras.layers import Dense"
   ]
  },
  {
   "cell_type": "code",
   "execution_count": null,
   "metadata": {
    "colab": {},
    "colab_type": "code",
    "id": "UsyO9c8Y_XdH"
   },
   "outputs": [],
   "source": [
    "# Initialising the CNN\n",
    "classifier = Sequential()\n",
    "\n",
    "# Step 1 - Convolution\n",
    "classifier.add(Conv2D(32, (3, 3), input_shape = (64, 64, 3), activation = 'relu'))\n",
    "\n",
    "# Step 2 - Pooling\n",
    "classifier.add(MaxPooling2D(pool_size = (2, 2)))\n",
    "\n",
    "# Adding a second convolutional layer\n",
    "\n",
    "\n",
    "# Step 3 - Flattening\n",
    "classifier.add(Flatten())\n",
    "\n",
    "# Step 4 - Full connection\n",
    "classifier.add(Dense(units = 128, activation = 'relu'))\n",
    "\n",
    "classifier.add(Dense(units = 12, activation = 'softmax'))\n",
    "\n",
    "# Compiling the CNN\n",
    "classifier.compile(optimizer = 'adam', loss = 'sparse_categorical_crossentropy', metrics = ['accuracy'])"
   ]
  },
  {
   "cell_type": "code",
   "execution_count": null,
   "metadata": {
    "colab": {},
    "colab_type": "code",
    "id": "Ehd44FsC_SNl"
   },
   "outputs": [],
   "source": [
    "# Part 2 - Fitting the CNN to the images\n",
    "\n",
    "from keras.preprocessing.image import ImageDataGenerator\n",
    "\n",
    "train_datagen = ImageDataGenerator(rescale = 1./255,\n",
    "                                   shear_range = 0.2,\n",
    "                                   zoom_range = 0.2,\n",
    "                                   horizontal_flip = True)\n",
    "test_datagen = ImageDataGenerator(rescale = 1./255)"
   ]
  },
  {
   "cell_type": "code",
   "execution_count": null,
   "metadata": {
    "colab": {
     "base_uri": "https://localhost:8080/",
     "height": 51
    },
    "colab_type": "code",
    "executionInfo": {
     "elapsed": 1320,
     "status": "ok",
     "timestamp": 1591118319199,
     "user": {
      "displayName": "Rahul Nandanwar",
      "photoUrl": "https://lh3.googleusercontent.com/a-/AOh14GgzzdR9Am4eo47Z0bK_GealsslMtZN4kMTuCCrQ=s64",
      "userId": "17908497525635550506"
     },
     "user_tz": -330
    },
    "id": "mK3kNX6__OPV",
    "outputId": "08023edc-28a1-4128-d281-5b3b0672ad0e"
   },
   "outputs": [
    {
     "name": "stdout",
     "output_type": "stream",
     "text": [
      "Found 72 images belonging to 4 classes.\n",
      "Found 72 images belonging to 4 classes.\n"
     ]
    }
   ],
   "source": [
    "training_set = train_datagen.flow_from_directory('/content/drive/My Drive/FamilyClassifierData',\n",
    "                                                 target_size = (64, 64),\n",
    "                                                 batch_size = 32,\n",
    "                                                 class_mode = 'binary')\n",
    "\n",
    "test_set = test_datagen.flow_from_directory('/content/drive/My Drive/FamilyClassifierData',\n",
    "                                            target_size = (64, 64),\n",
    "                                            batch_size = 32,\n",
    "                                            class_mode = 'binary')"
   ]
  },
  {
   "cell_type": "code",
   "execution_count": null,
   "metadata": {
    "colab": {
     "base_uri": "https://localhost:8080/",
     "height": 34
    },
    "colab_type": "code",
    "executionInfo": {
     "elapsed": 1013,
     "status": "ok",
     "timestamp": 1591118320381,
     "user": {
      "displayName": "Rahul Nandanwar",
      "photoUrl": "https://lh3.googleusercontent.com/a-/AOh14GgzzdR9Am4eo47Z0bK_GealsslMtZN4kMTuCCrQ=s64",
      "userId": "17908497525635550506"
     },
     "user_tz": -330
    },
    "id": "lGyc3PAc-Mtw",
    "outputId": "39145740-5e57-45c2-bcd2-392141435768"
   },
   "outputs": [
    {
     "data": {
      "text/plain": [
       "<keras.preprocessing.image.DirectoryIterator at 0x7ffa69581198>"
      ]
     },
     "execution_count": 15,
     "metadata": {
      "tags": []
     },
     "output_type": "execute_result"
    }
   ],
   "source": [
    "training_set"
   ]
  },
  {
   "cell_type": "code",
   "execution_count": null,
   "metadata": {
    "colab": {
     "base_uri": "https://localhost:8080/",
     "height": 34
    },
    "colab_type": "code",
    "executionInfo": {
     "elapsed": 1252,
     "status": "ok",
     "timestamp": 1591118322427,
     "user": {
      "displayName": "Rahul Nandanwar",
      "photoUrl": "https://lh3.googleusercontent.com/a-/AOh14GgzzdR9Am4eo47Z0bK_GealsslMtZN4kMTuCCrQ=s64",
      "userId": "17908497525635550506"
     },
     "user_tz": -330
    },
    "id": "m_GsOQFi-Jhl",
    "outputId": "d732733c-b33c-4711-f592-0a70e47ac845"
   },
   "outputs": [
    {
     "data": {
      "text/plain": [
       "{'Papa': 0, 'Rahul Nandanwar': 1, 'Shubham Nandanwar': 2, 'mummy': 3}"
      ]
     },
     "execution_count": 16,
     "metadata": {
      "tags": []
     },
     "output_type": "execute_result"
    }
   ],
   "source": [
    "training_set.class_indices"
   ]
  },
  {
   "cell_type": "code",
   "execution_count": null,
   "metadata": {
    "colab": {
     "base_uri": "https://localhost:8080/",
     "height": 904
    },
    "colab_type": "code",
    "executionInfo": {
     "elapsed": 7533094,
     "status": "ok",
     "timestamp": 1591125859581,
     "user": {
      "displayName": "Rahul Nandanwar",
      "photoUrl": "https://lh3.googleusercontent.com/a-/AOh14GgzzdR9Am4eo47Z0bK_GealsslMtZN4kMTuCCrQ=s64",
      "userId": "17908497525635550506"
     },
     "user_tz": -330
    },
    "id": "0i6Lg7l2CcFk",
    "outputId": "c13d898e-f57f-4151-8eb6-be376a1a1543"
   },
   "outputs": [
    {
     "name": "stdout",
     "output_type": "stream",
     "text": [
      "Epoch 1/25\n",
      "100/100 [==============================] - 308s 3s/step - loss: 0.4879 - accuracy: 0.8331 - val_loss: 0.1449 - val_accuracy: 0.9718\n",
      "Epoch 2/25\n",
      "100/100 [==============================] - 300s 3s/step - loss: 0.0323 - accuracy: 0.9975 - val_loss: 0.0037 - val_accuracy: 1.0000\n",
      "Epoch 3/25\n",
      "100/100 [==============================] - 303s 3s/step - loss: 0.0070 - accuracy: 1.0000 - val_loss: 6.2592e-04 - val_accuracy: 1.0000\n",
      "Epoch 4/25\n",
      "100/100 [==============================] - 299s 3s/step - loss: 0.0036 - accuracy: 1.0000 - val_loss: 0.0026 - val_accuracy: 1.0000\n",
      "Epoch 5/25\n",
      "100/100 [==============================] - 300s 3s/step - loss: 0.0031 - accuracy: 1.0000 - val_loss: 0.0011 - val_accuracy: 1.0000\n",
      "Epoch 6/25\n",
      "100/100 [==============================] - 304s 3s/step - loss: 0.0016 - accuracy: 1.0000 - val_loss: 0.0022 - val_accuracy: 1.0000\n",
      "Epoch 7/25\n",
      "100/100 [==============================] - 298s 3s/step - loss: 0.0011 - accuracy: 1.0000 - val_loss: 3.2639e-04 - val_accuracy: 1.0000\n",
      "Epoch 8/25\n",
      "100/100 [==============================] - 300s 3s/step - loss: 7.9010e-04 - accuracy: 1.0000 - val_loss: 6.0772e-04 - val_accuracy: 1.0000\n",
      "Epoch 9/25\n",
      "100/100 [==============================] - 303s 3s/step - loss: 6.3953e-04 - accuracy: 1.0000 - val_loss: 4.2420e-04 - val_accuracy: 1.0000\n",
      "Epoch 10/25\n",
      "100/100 [==============================] - 299s 3s/step - loss: 4.9602e-04 - accuracy: 1.0000 - val_loss: 3.5969e-04 - val_accuracy: 1.0000\n",
      "Epoch 11/25\n",
      "100/100 [==============================] - 298s 3s/step - loss: 4.6623e-04 - accuracy: 1.0000 - val_loss: 3.1829e-04 - val_accuracy: 1.0000\n",
      "Epoch 12/25\n",
      "100/100 [==============================] - 305s 3s/step - loss: 3.4251e-04 - accuracy: 1.0000 - val_loss: 1.2649e-04 - val_accuracy: 1.0000\n",
      "Epoch 13/25\n",
      "100/100 [==============================] - 299s 3s/step - loss: 3.0563e-04 - accuracy: 1.0000 - val_loss: 1.9211e-04 - val_accuracy: 1.0000\n",
      "Epoch 14/25\n",
      "100/100 [==============================] - 299s 3s/step - loss: 3.0274e-04 - accuracy: 1.0000 - val_loss: 1.0315e-04 - val_accuracy: 1.0000\n",
      "Epoch 15/25\n",
      "100/100 [==============================] - 305s 3s/step - loss: 2.2692e-04 - accuracy: 1.0000 - val_loss: 1.8318e-04 - val_accuracy: 1.0000\n",
      "Epoch 16/25\n",
      "100/100 [==============================] - 299s 3s/step - loss: 1.8309e-04 - accuracy: 1.0000 - val_loss: 2.3315e-04 - val_accuracy: 1.0000\n",
      "Epoch 17/25\n",
      "100/100 [==============================] - 299s 3s/step - loss: 1.9084e-04 - accuracy: 1.0000 - val_loss: 1.4495e-04 - val_accuracy: 1.0000\n",
      "Epoch 18/25\n",
      "100/100 [==============================] - 303s 3s/step - loss: 1.5352e-04 - accuracy: 1.0000 - val_loss: 8.4757e-05 - val_accuracy: 1.0000\n",
      "Epoch 19/25\n",
      "100/100 [==============================] - 300s 3s/step - loss: 1.5558e-04 - accuracy: 1.0000 - val_loss: 9.7944e-05 - val_accuracy: 1.0000\n",
      "Epoch 20/25\n",
      "100/100 [==============================] - 298s 3s/step - loss: 1.3673e-04 - accuracy: 1.0000 - val_loss: 1.4104e-04 - val_accuracy: 1.0000\n",
      "Epoch 21/25\n",
      "100/100 [==============================] - 306s 3s/step - loss: 1.1752e-04 - accuracy: 1.0000 - val_loss: 1.1380e-04 - val_accuracy: 1.0000\n",
      "Epoch 22/25\n",
      "100/100 [==============================] - 298s 3s/step - loss: 9.9261e-05 - accuracy: 1.0000 - val_loss: 1.2099e-04 - val_accuracy: 1.0000\n",
      "Epoch 23/25\n",
      "100/100 [==============================] - 298s 3s/step - loss: 8.9121e-05 - accuracy: 1.0000 - val_loss: 8.9021e-05 - val_accuracy: 1.0000\n",
      "Epoch 24/25\n",
      "100/100 [==============================] - 307s 3s/step - loss: 9.7171e-05 - accuracy: 1.0000 - val_loss: 2.8951e-05 - val_accuracy: 1.0000\n",
      "Epoch 25/25\n",
      "100/100 [==============================] - 306s 3s/step - loss: 6.5985e-05 - accuracy: 1.0000 - val_loss: 5.8859e-05 - val_accuracy: 1.0000\n",
      "Saved model to disk\n"
     ]
    }
   ],
   "source": [
    "model = classifier.fit_generator(training_set,\n",
    "                         steps_per_epoch = 100,\n",
    "                         epochs = 25,\n",
    "                         validation_data = test_set,    \n",
    "                         validation_steps = 20)\n",
    "\n",
    "classifier.save(\"model_family.h5\")\n",
    "print(\"Saved model to disk\")"
   ]
  },
  {
   "cell_type": "code",
   "execution_count": null,
   "metadata": {
    "colab": {},
    "colab_type": "code",
    "id": "WHnIRqdugGRU"
   },
   "outputs": [],
   "source": [
    "classifier.save(\"model_family.h5\")"
   ]
  },
  {
   "cell_type": "code",
   "execution_count": null,
   "metadata": {
    "colab": {},
    "colab_type": "code",
    "id": "rIPwiMjPxjC4"
   },
   "outputs": [],
   "source": []
  }
 ],
 "metadata": {
  "colab": {
   "authorship_tag": "ABX9TyNvOgbtkTJ3JgbGFEecmACI",
   "collapsed_sections": [],
   "mount_file_id": "1gE7tIGX1ckyHMkCFu9XBkgXsLmS0z59k",
   "name": "First_CNN.ipynb",
   "provenance": []
  },
  "kernelspec": {
   "display_name": "Python 3",
   "language": "python",
   "name": "python3"
  },
  "language_info": {
   "codemirror_mode": {
    "name": "ipython",
    "version": 3
   },
   "file_extension": ".py",
   "mimetype": "text/x-python",
   "name": "python",
   "nbconvert_exporter": "python",
   "pygments_lexer": "ipython3",
   "version": "3.7.6"
  }
 },
 "nbformat": 4,
 "nbformat_minor": 1
}
